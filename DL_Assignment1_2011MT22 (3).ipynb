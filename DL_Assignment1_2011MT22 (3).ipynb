{
  "nbformat": 4,
  "nbformat_minor": 0,
  "metadata": {
    "colab": {
      "name": "DL_Assignment1_2011MT22.ipynb",
      "provenance": []
    },
    "kernelspec": {
      "name": "python3",
      "display_name": "Python 3"
    }
  },
  "cells": [
    {
      "cell_type": "markdown",
      "metadata": {
        "id": "5UDJly6aux7R"
      },
      "source": [
        "#***Deep Learning CS551 Assignment 1 Solution by Vipin_2011MT22***\n",
        "\n"
      ]
    },
    {
      "cell_type": "code",
      "metadata": {
        "id": "qNFP82TLQs6M"
      },
      "source": [
        "# importing library \n",
        "import numpy as np \n",
        "import pandas as pd\n",
        "from sympy import *\n",
        "import sys\n",
        "import seaborn as sns\n",
        "import matplotlib.pyplot as plt\n",
        "import scipy.linalg as la\n",
        "import sklearn\n",
        "from sklearn.model_selection import train_test_split\n",
        "from sklearn.linear_model import LinearRegression\n",
        "from sklearn.linear_model import LogisticRegression\n",
        "from sklearn.model_selection import cross_val_score, cross_val_predict"
      ],
      "execution_count": null,
      "outputs": []
    },
    {
      "cell_type": "markdown",
      "metadata": {
        "id": "e4AOPdOXvFCU"
      },
      "source": [
        "#Q1. Find out the eigen value and eigen vector of a given matrix using python library\n",
        "\n",
        "X = [[1, 2, 3],\n",
        "[2, 3, 4],\n",
        "[4, 5, 6]]"
      ]
    },
    {
      "cell_type": "code",
      "metadata": {
        "id": "Ik2mHtyhujbZ",
        "colab": {
          "base_uri": "https://localhost:8080/"
        },
        "outputId": "a654acc3-47e8-425c-f406-4fa4a9fbde4c"
      },
      "source": [
        "m = np.array([[1, 2, 3], \n",
        "              [2, 3, 4], \n",
        "              [4, 5, 6]]) \n",
        "\n",
        "w, v = np.linalg.eig(m)\n",
        "\n",
        "print(\"Eigen values of the given square array:\\n\", w, \"\\n\\n\")\n",
        "print(\"Eigenvectors of the given square array:\\n\", v) "
      ],
      "execution_count": null,
      "outputs": [
        {
          "output_type": "stream",
          "text": [
            "Eigen values of the given square array:\n",
            " [ 1.08309519e+01 -8.30951895e-01 -1.24701000e-16] \n",
            "\n",
            "\n",
            "Eigenvectors of the given square array:\n",
            " [[ 0.34416959  0.72770285  0.40824829]\n",
            " [ 0.49532111  0.27580256 -0.81649658]\n",
            " [ 0.79762415 -0.62799801  0.40824829]]\n"
          ],
          "name": "stdout"
        }
      ]
    },
    {
      "cell_type": "markdown",
      "metadata": {
        "id": "JDfymzLFvv84"
      },
      "source": [
        "#Q2. Find the dot product of two vectors v = [1,2] and w =[1,1]\n"
      ]
    },
    {
      "cell_type": "code",
      "metadata": {
        "id": "9pIELUGkv66q",
        "colab": {
          "base_uri": "https://localhost:8080/"
        },
        "outputId": "637a192f-b936-44c2-a3d4-c6e13c35465f"
      },
      "source": [
        "a = [1,2] \n",
        "b = [1, 1]\n",
        "\n",
        "dotproduct= np.dot(a, b)\n",
        "\n",
        "print(\"Dot product of two vectors:\\n\", dotproduct) "
      ],
      "execution_count": null,
      "outputs": [
        {
          "output_type": "stream",
          "text": [
            "Dot product of two vectors:\n",
            " 3\n"
          ],
          "name": "stdout"
        }
      ]
    },
    {
      "cell_type": "markdown",
      "metadata": {
        "id": "_iUhPI8ev1kz"
      },
      "source": [
        "#Q3. Find out the trace of a matrix given below using python.\n",
        "X = [[1, 2, 3],\n",
        "[4, 5, 6],\n",
        "[7, 8, 9]]\n"
      ]
    },
    {
      "cell_type": "code",
      "metadata": {
        "id": "YytExFJzv1MW",
        "colab": {
          "base_uri": "https://localhost:8080/"
        },
        "outputId": "0d5592b8-1ae1-424c-cc6c-d81b03088c15"
      },
      "source": [
        "m = np.array([[1,2,3],[4,5,6],[7,8,9]])\n",
        "\n",
        "trace = m.trace()\n",
        "\n",
        "print(\"Trace of a matrix:\\n\", trace) "
      ],
      "execution_count": null,
      "outputs": [
        {
          "output_type": "stream",
          "text": [
            "Trace of a matrix:\n",
            " 15\n"
          ],
          "name": "stdout"
        }
      ]
    },
    {
      "cell_type": "markdown",
      "metadata": {
        "id": "8k4KNUnYv8Df"
      },
      "source": [
        "#Q4: Write a python program to perform the following set of operations on the augmented matrix derived from the system of linear equations given below.\n",
        "(a) Generate Row Echelon Form (REF)\n",
        "\n",
        "(b) Generate Reduced Row Echelon Form (RREF)\n",
        "\n",
        "(c) Perform Gaussian elimination to solve the below system of linear equation\n",
        "\n",
        "(d) Perform Gauss–Jordan elimination to solve the below system of linear equation\n",
        "\n",
        "Test Case:\n",
        "\n",
        "Input:\n",
        "\n",
        "X+y+2z = 9,\n",
        "2x+4y-3z = 1,\n",
        "3x+6y-5z =0\n",
        "\n",
        "Output:\n",
        "\n",
        "x = 1, y =2 , z =3\n"
      ]
    },
    {
      "cell_type": "markdown",
      "metadata": {
        "id": "1Lsq72XNTEzS"
      },
      "source": [
        "(a)"
      ]
    },
    {
      "cell_type": "code",
      "metadata": {
        "id": "ZKPRfgQqwq08",
        "colab": {
          "base_uri": "https://localhost:8080/"
        },
        "outputId": "30e57c09-9648-4c09-db69-907c18134701"
      },
      "source": [
        "A = np.array([[1,1,2],[2,4,-3],[3,6,-5]], dtype='float')\n",
        "B = np.array([[9],[1],[0]], dtype='float')\n",
        "M = np.hstack([A,B])\n",
        "print(\"Augumented matrix derived from system of linear equation is: \\n\\n \", M)"
      ],
      "execution_count": null,
      "outputs": [
        {
          "output_type": "stream",
          "text": [
            "Augumented matrix derived from system of linear equation is: \n",
            "\n",
            "  [[ 1.  1.  2.  9.]\n",
            " [ 2.  4. -3.  1.]\n",
            " [ 3.  6. -5.  0.]]\n"
          ],
          "name": "stdout"
        }
      ]
    },
    {
      "cell_type": "code",
      "metadata": {
        "colab": {
          "base_uri": "https://localhost:8080/"
        },
        "id": "V7u1HhAr0Rqz",
        "outputId": "4b844469-22c3-4715-a119-edb32a00824d"
      },
      "source": [
        "def REF(M):\n",
        "    r, c = M.shape\n",
        "    if r == 0 or c == 0:\n",
        "        return M\n",
        "    for i in range(len(M)):\n",
        "        if M[i,0] != 0:\n",
        "            break\n",
        "    else:\n",
        "        y = REF(M[:,1:])\n",
        "        return np.hstack([M[:,:1], y])\n",
        "    if i > 0:\n",
        "        ith_row = M[i].copy()\n",
        "        M[i] = M[0]\n",
        "        M[0] = ith_row\n",
        "    M[0] = M[0] / M[0,0]\n",
        "    M[1:] -= M[0] * M[1:,0:1]\n",
        "    y = REF(M[1:,1:])\n",
        "    return np.vstack([M[:1], np.hstack([M[1:,:1], y]) ])\n",
        "\n",
        "\n",
        "print(\"Generate Row Echelon Form (REF): \\n\\n\", REF(M))"
      ],
      "execution_count": null,
      "outputs": [
        {
          "output_type": "stream",
          "text": [
            "Generate Row Echelon Form (REF): \n",
            "\n",
            " [[ 1.   1.   2.   9. ]\n",
            " [ 0.   1.  -3.5 -8.5]\n",
            " [ 0.   0.   1.   3. ]]\n"
          ],
          "name": "stdout"
        }
      ]
    },
    {
      "cell_type": "markdown",
      "metadata": {
        "id": "rOnWcrnpTJYJ"
      },
      "source": [
        "(b)"
      ]
    },
    {
      "cell_type": "code",
      "metadata": {
        "colab": {
          "base_uri": "https://localhost:8080/"
        },
        "id": "nRCwq_YS0qRb",
        "outputId": "710d13e3-9a09-4b87-9618-b1536901eff7"
      },
      "source": [
        "def RREF(M):\n",
        "    A = np.array(M, dtype=np.float64)\n",
        "    i = 0 \n",
        "    j = 0 \n",
        "    while True:\n",
        "        while all(A.T[j] == 0.0):\n",
        "            j += 1\n",
        "            if j == len(A[0]) - 1 : break\n",
        "        if A[i][j] == 0:\n",
        "            i_ = i\n",
        "            while A[i_][j] == 0:\n",
        "                i_ += 1\n",
        "                if i_ == len(A) - 1 : break\n",
        "            A[[i, i_]] = A[[i_, i]]\n",
        "        A[i] = A[i] / A[i][j]\n",
        "        for i_ in range(len(A)):\n",
        "            if i_ != i:\n",
        "                A[i_] = A[i_] - A[i] * A[i_][j] / A[i][j]\n",
        "        if (i == len(A) - 1) or (j == len(A[0]) - 1): break\n",
        "        i += 1\n",
        "        j += 1\n",
        "    return A\n",
        "\n",
        "print(\"Generate Reduced Row Echelon Form (RREF): \\n\\n\", RREF(M))"
      ],
      "execution_count": null,
      "outputs": [
        {
          "output_type": "stream",
          "text": [
            "Generate Reduced Row Echelon Form (RREF): \n",
            "\n",
            " [[1. 0. 0. 1.]\n",
            " [0. 1. 0. 2.]\n",
            " [0. 0. 1. 3.]]\n"
          ],
          "name": "stdout"
        }
      ]
    },
    {
      "cell_type": "markdown",
      "metadata": {
        "id": "zyrPaxbKTMr8"
      },
      "source": [
        "(c)"
      ]
    },
    {
      "cell_type": "code",
      "metadata": {
        "colab": {
          "base_uri": "https://localhost:8080/"
        },
        "id": "hcTVBi700vhY",
        "outputId": "a965db9d-61c4-427c-a5cf-ff7f20659518"
      },
      "source": [
        "print(\"Gauss elimination to solve given syatem of linear equation \\n\\n\")\n",
        "\n",
        "n = int(input('Enter number of unknowns: '))\n",
        "R = np.zeros((n,n+1))\n",
        "x = np.zeros(n)\n",
        "print('Enter Augmented Matrix Coefficients:')\n",
        "for i in range(n):\n",
        "    for j in range(n+1):\n",
        "        R[i][j] = input( 'R['+str(i)+']['+ str(j)+']=')\n",
        "\n",
        "for i in range(n):\n",
        "    if R[i][i] == 0.0:\n",
        "        sys.exit('Divide by zero detected!')    \n",
        "    for j in range(i+1, n):\n",
        "        ratio = R[j][i]/R[i][i]\n",
        "        for k in range(n+1):\n",
        "            R[j][k] = R[j][k] - ratio * R[i][k]\n",
        "x[n-1] = R[n-1][n]/R[n-1][n-1]\n",
        "for i in range(n-2,-1,-1):\n",
        "    x[i] = R[i][n]  \n",
        "    for j in range(i+1,n):\n",
        "        x[i] = x[i] - R[i][j]*x[j]  \n",
        "    x[i] = x[i]/R[i][i]\n",
        "\n",
        "for i in range(n):\n",
        "    print('\\n\\nX%d = %0.2f' %(i,x[i]), end = '\\t')"
      ],
      "execution_count": null,
      "outputs": [
        {
          "output_type": "stream",
          "text": [
            "Gauss elimination to solve given syatem of linear equation \n",
            "\n",
            "\n",
            "Enter number of unknowns: 3\n",
            "Enter Augmented Matrix Coefficients:\n",
            "R[0][0]=1\n",
            "R[0][1]=1\n",
            "R[0][2]=2\n",
            "R[0][3]=9\n",
            "R[1][0]=2\n",
            "R[1][1]=4\n",
            "R[1][2]=-3\n",
            "R[1][3]=1\n",
            "R[2][0]=3\n",
            "R[2][1]=6\n",
            "R[2][2]=-5\n",
            "R[2][3]=0\n",
            "\n",
            "\n",
            "X0 = 1.00\t\n",
            "\n",
            "X1 = 2.00\t\n",
            "\n",
            "X2 = 3.00\t"
          ],
          "name": "stdout"
        }
      ]
    },
    {
      "cell_type": "markdown",
      "metadata": {
        "id": "j2q0J6NlTPma"
      },
      "source": [
        "(d)"
      ]
    },
    {
      "cell_type": "code",
      "metadata": {
        "colab": {
          "base_uri": "https://localhost:8080/"
        },
        "id": "lq8g1zui0coK",
        "outputId": "7b7afce5-b471-47b0-b9eb-3da51e80463d"
      },
      "source": [
        "print(\"Gauss Jordan elimination to solve given syatem of linear equation \\n\\n\")\n",
        "\n",
        "n = int(input('Enter number of unknowns: '))\n",
        "D = np.zeros((n,n+1))\n",
        "x = np.zeros(n)\n",
        "print('Enter Augmented Matrix Coefficients:')\n",
        "for i in range(n):\n",
        "    for j in range(n+1):\n",
        "        D[i][j] = float(input( 'D['+str(i)+']['+ str(j)+']='))\n",
        "\n",
        "for i in range(n):\n",
        "    if D[i][i] == 0.0:\n",
        "        sys.exit('Divide by zero detected!')       \n",
        "    for j in range(n):\n",
        "        if i != j:\n",
        "            ratio = D[j][i]/D[i][i]\n",
        "\n",
        "            for k in range(n+1):\n",
        "                D[j][k] = D[j][k] - ratio * D[i][k]\n",
        "\n",
        "for i in range(n):\n",
        "    x[i] = D[i][n]/D[i][i]\n",
        "\n",
        "for i in range(n):\n",
        "    print('\\n\\n X%d = %0.2f' %(i,x[i]), end = '\\t')"
      ],
      "execution_count": null,
      "outputs": [
        {
          "output_type": "stream",
          "text": [
            "Gauss Jordan elimination to solve given syatem of linear equation \n",
            "\n",
            "\n",
            "Enter number of unknowns: 3\n",
            "Enter Augmented Matrix Coefficients:\n",
            "D[0][0]=1\n",
            "D[0][1]=1\n",
            "D[0][2]=2\n",
            "D[0][3]=9\n",
            "D[1][0]=2\n",
            "D[1][1]=4\n",
            "D[1][2]=-3\n",
            "D[1][3]=1\n",
            "D[2][0]=3\n",
            "D[2][1]=6\n",
            "D[2][2]=-5\n",
            "D[2][3]=0\n",
            "\n",
            "\n",
            " X0 = 1.00\t\n",
            "\n",
            " X1 = 2.00\t\n",
            "\n",
            " X2 = 3.00\t"
          ],
          "name": "stdout"
        }
      ]
    },
    {
      "cell_type": "markdown",
      "metadata": {
        "id": "uDzkA6j1wr4d"
      },
      "source": [
        "#Matrix factorization using SGD\n",
        "\n",
        "Q5. Assume R is a mXn matrix with each entry is an integer in [0, 5] i.e. moving rating m users have given to n movies. Find the factorization of matrix R = P Q using approximation method.\n",
        "\n",
        "Where P and Q have size (k × m) and (k × n) and k<m and k<n.\n",
        "\n",
        "Update rule for Pc and Qc (column vectors of P, Q respectively) are as follows:\n",
        "\n",
        "Pc<- Pc +s*(eQc-t*Pc)\n",
        "\n",
        "Qc<- Qc +s*(ePc-t*Qc)\n",
        "\n",
        "Where s, t are from [0,1]. e= R_{i, j} - (Pc) Qc .\n",
        "\n",
        "E = ||R − P Q||\n",
        "\n",
        "1)Find k, s and t for least E. (use hyperopt or sklearn library for gridsearch.)\n",
        "\n",
        "2)Plot graph for E vs k.\n",
        "\n",
        "*Each user (Pc) and movie (Qc) are defined by k features (k sized 1-d vector) which best\n",
        "describes their characteristics in latent space.\n"
      ]
    },
    {
      "cell_type": "markdown",
      "metadata": {
        "id": "PLQpD9gAY5_O"
      },
      "source": [
        "(a)"
      ]
    },
    {
      "cell_type": "code",
      "metadata": {
        "colab": {
          "base_uri": "https://localhost:8080/"
        },
        "id": "syvNOaJaYCv5",
        "outputId": "26e12c5d-c8e9-40bf-968b-efc9e760ac9d"
      },
      "source": [
        "def matrix_factorization(R, P, Q, K,s,t):\n",
        "  e = 0\n",
        "  iteration = 2000\n",
        "  Q = Q.T\n",
        "  for l in range(iteration):\n",
        "    for i in range(len(R)):\n",
        "      for j in range(len(R[i])):\n",
        "        if R[i][j] > 0:\n",
        "          eij = R[i][j] - np.dot(P[i,:],Q[:,j])\n",
        "          for k in range(K):\n",
        "            P[i][k] = P[i][k] + s * (eij * Q[k][j] - t * P[i][k])\n",
        "            Q[k][j] = Q[k][j] + s * (eij * P[i][k] - t * Q[k][j])\n",
        "    # error in prediction        \n",
        "    for i in range(len(R)):\n",
        "      for j in range(len(R[i])):\n",
        "        if R[i][j] > 0:\n",
        "          for k in range(K):\n",
        "            e = e + (R[i][j] - np.dot(P[i,:],Q[:,j]))                 \n",
        "  return np.dot(P,Q),e\n",
        "\n",
        "R = np.random.randint(6, size=(5, 4))\n",
        "n = len(R)\n",
        "m = len(R[0])\n",
        "\n",
        "s_value = [0.0001,0.0002,0.0003,0.0004,0.0005]\n",
        "t_value = [0.01,0.02,0.03,0.04,0.05]\n",
        "\n",
        "err = []\n",
        "a = []\n",
        "b = []\n",
        "k = []\n",
        "for s in s_value:\n",
        "  for t in t_value:\n",
        "    for K in range(1,5):\n",
        "      P = np.random.rand(n,K)\n",
        "      Q = np.random.rand(m,K)\n",
        "      E,error = matrix_factorization(R, P, Q, K,s,t)\n",
        "      err.append(error) \n",
        "      a.append(s)\n",
        "      b.append(t)\n",
        "      k.append(K) \n",
        "result = pd.DataFrame.from_dict({\"Error\":err,\"s\":a,\"t\":b,\"K\":k})\n",
        "result\n",
        "\n",
        "minvalue = result['Error'].min() \n",
        "minvalue\n",
        "\n",
        "minindex = result['Error'].idxmin() \n",
        "minindex \n",
        "\n",
        "print('For least Error:')\n",
        "print('Value of s is: ',result.s[minindex])\n",
        "print('Value of t is: ',result.t[minindex])\n",
        "print('Value of K is: ',result.K[minindex])\n"
      ],
      "execution_count": null,
      "outputs": [
        {
          "output_type": "stream",
          "text": [
            "For least Error:\n",
            "Value of s is:  0.0005\n",
            "Value of t is:  0.02\n",
            "Value of K is:  1\n"
          ],
          "name": "stdout"
        }
      ]
    },
    {
      "cell_type": "markdown",
      "metadata": {
        "id": "W2EDzmw8Y9UV"
      },
      "source": [
        "(b)"
      ]
    },
    {
      "cell_type": "markdown",
      "metadata": {
        "id": "NSFwY-8CxS0C"
      },
      "source": [
        "# Q6. Find the partial derivative of ||LU − A|| (a function of squared frobenius norm) with respect to U. Where L, U and A are all matrices."
      ]
    },
    {
      "cell_type": "code",
      "metadata": {
        "id": "0oEbNUS_Eopo"
      },
      "source": [
        "#Defining function for partial derivative of ||LU-A|| wrt U\n",
        "\n",
        "def parder(L,U,A):\n",
        "  L_transpose = [[L[j][i] for j in range(len(L))] for i in range(len(L[0]))]\n",
        "  a = L*U-A\n",
        "  z = L_transpose*a\n",
        "  PD = 2*z\n",
        "  return PD\n"
      ],
      "execution_count": null,
      "outputs": []
    },
    {
      "cell_type": "code",
      "metadata": {
        "colab": {
          "base_uri": "https://localhost:8080/"
        },
        "id": "jgLEGRA1FArI",
        "outputId": "3d0a7d48-4b2c-44c5-801d-228f597b7789"
      },
      "source": [
        "#Testing frobenius norm partial derivative by taking any random matrix L U A\n",
        "\n",
        "L = np.matrix([[4,3,6],[8,6,2],[7,6,5]])\n",
        "U = np.matrix([[8,3,4],[8,3,7],[7, 5, 5]])\n",
        "A = np.matrix([[9,3,3],[7,2,5],[6,5,7]])\n",
        "\n",
        "print(\"Frobenius norm partial derivative wrt U:\\n\\n\")\n",
        "parder(L,U,A)"
      ],
      "execution_count": null,
      "outputs": [
        {
          "output_type": "stream",
          "text": [
            "Frobenius norm partial derivative wrt U:\n",
            "\n",
            "\n"
          ],
          "name": "stdout"
        },
        {
          "output_type": "execute_result",
          "data": {
            "text/plain": [
              "matrix([[3022, 1392, 2042],\n",
              "        [3384, 1604, 2324],\n",
              "        [4004, 1862, 2724]])"
            ]
          },
          "metadata": {
            "tags": []
          },
          "execution_count": 19
        }
      ]
    },
    {
      "cell_type": "markdown",
      "metadata": {
        "id": "byV-LkXt1zQT"
      },
      "source": [
        "# Linear Regression\n",
        "\n",
        "#Q7. Find the linear regression model which best predicts the dependent variable (“sales”) on validation dataset.\n",
        "● Divide data in 80-20 % for training and testing set.\n",
        "\n",
        "● Use 10 fold cross validation set (10% of training dataset).\n",
        "\n",
        "Find regression co-efficients and intercepts. Report confusion matrix on test dataset.\n",
        "\n",
        "Link: https://raw.githubusercontent.com/manishbhnau/Repo/master/Advertising.csv\n"
      ]
    },
    {
      "cell_type": "code",
      "metadata": {
        "id": "yvQ2FTfh1ZhZ",
        "colab": {
          "base_uri": "https://localhost:8080/",
          "height": 199
        },
        "outputId": "655e905e-1551-470d-e0fb-443cbe985624"
      },
      "source": [
        "df = pd.read_csv(\"https://raw.githubusercontent.com/manishbhnau/Repo/master/Advertising.csv\")\n",
        "\n",
        "df.drop([\"Unnamed: 0\"],axis = 1, inplace = True);\n",
        "\n",
        "df.head()"
      ],
      "execution_count": null,
      "outputs": [
        {
          "output_type": "execute_result",
          "data": {
            "text/html": [
              "<div>\n",
              "<style scoped>\n",
              "    .dataframe tbody tr th:only-of-type {\n",
              "        vertical-align: middle;\n",
              "    }\n",
              "\n",
              "    .dataframe tbody tr th {\n",
              "        vertical-align: top;\n",
              "    }\n",
              "\n",
              "    .dataframe thead th {\n",
              "        text-align: right;\n",
              "    }\n",
              "</style>\n",
              "<table border=\"1\" class=\"dataframe\">\n",
              "  <thead>\n",
              "    <tr style=\"text-align: right;\">\n",
              "      <th></th>\n",
              "      <th>TV</th>\n",
              "      <th>radio</th>\n",
              "      <th>newspaper</th>\n",
              "      <th>sales</th>\n",
              "    </tr>\n",
              "  </thead>\n",
              "  <tbody>\n",
              "    <tr>\n",
              "      <th>0</th>\n",
              "      <td>230.1</td>\n",
              "      <td>37.8</td>\n",
              "      <td>69.2</td>\n",
              "      <td>22.1</td>\n",
              "    </tr>\n",
              "    <tr>\n",
              "      <th>1</th>\n",
              "      <td>44.5</td>\n",
              "      <td>39.3</td>\n",
              "      <td>45.1</td>\n",
              "      <td>10.4</td>\n",
              "    </tr>\n",
              "    <tr>\n",
              "      <th>2</th>\n",
              "      <td>17.2</td>\n",
              "      <td>45.9</td>\n",
              "      <td>69.3</td>\n",
              "      <td>9.3</td>\n",
              "    </tr>\n",
              "    <tr>\n",
              "      <th>3</th>\n",
              "      <td>151.5</td>\n",
              "      <td>41.3</td>\n",
              "      <td>58.5</td>\n",
              "      <td>18.5</td>\n",
              "    </tr>\n",
              "    <tr>\n",
              "      <th>4</th>\n",
              "      <td>180.8</td>\n",
              "      <td>10.8</td>\n",
              "      <td>58.4</td>\n",
              "      <td>12.9</td>\n",
              "    </tr>\n",
              "  </tbody>\n",
              "</table>\n",
              "</div>"
            ],
            "text/plain": [
              "      TV  radio  newspaper  sales\n",
              "0  230.1   37.8       69.2   22.1\n",
              "1   44.5   39.3       45.1   10.4\n",
              "2   17.2   45.9       69.3    9.3\n",
              "3  151.5   41.3       58.5   18.5\n",
              "4  180.8   10.8       58.4   12.9"
            ]
          },
          "metadata": {
            "tags": []
          },
          "execution_count": 73
        }
      ]
    },
    {
      "cell_type": "markdown",
      "metadata": {
        "id": "S9DcpyZIJxQD"
      },
      "source": [
        "Televison"
      ]
    },
    {
      "cell_type": "code",
      "metadata": {
        "id": "tyuv5ERocbkZ",
        "colab": {
          "base_uri": "https://localhost:8080/"
        },
        "outputId": "f25a3b7b-89ee-4cd5-925e-0c5b5dc5c582"
      },
      "source": [
        "X = df[['TV']].values\n",
        "y = df['sales'].values\n",
        "print(f'Shape of X is {X.shape}\\nShape of y is {y.shape}')"
      ],
      "execution_count": null,
      "outputs": [
        {
          "output_type": "stream",
          "text": [
            "Shape of X is (200, 1)\n",
            "Shape of y is (200,)\n"
          ],
          "name": "stdout"
        }
      ]
    },
    {
      "cell_type": "code",
      "metadata": {
        "id": "vLERUxYuck5c",
        "colab": {
          "base_uri": "https://localhost:8080/"
        },
        "outputId": "4df03616-cd53-4896-bd62-86e068af06ed"
      },
      "source": [
        "#Splitting Training and Test Set\n",
        "X_train,X_test,y_train,y_test = train_test_split(X,y,test_size=0.20,random_state=1)\n",
        "print(X_train.shape, X_test.shape, y_train.shape, y_test.shape)"
      ],
      "execution_count": null,
      "outputs": [
        {
          "output_type": "stream",
          "text": [
            "(160, 1) (40, 1) (160,) (40,)\n"
          ],
          "name": "stdout"
        }
      ]
    },
    {
      "cell_type": "code",
      "metadata": {
        "id": "qNpZqLrCck8J"
      },
      "source": [
        "# fit a model\n",
        "regression_model = LinearRegression()\n",
        "model = regression_model.fit(X_train, y_train)"
      ],
      "execution_count": null,
      "outputs": []
    },
    {
      "cell_type": "code",
      "metadata": {
        "id": "ftfPkbpGclBG",
        "colab": {
          "base_uri": "https://localhost:8080/"
        },
        "outputId": "5fa3c154-c3a3-489f-cc8b-e3e46e37cfa5"
      },
      "source": [
        "print('intercept:', model.intercept_)\n",
        "print('coefficients for radio:', model.coef_)"
      ],
      "execution_count": null,
      "outputs": [
        {
          "output_type": "stream",
          "text": [
            "intercept: 6.799773449796853\n",
            "coefficients for radio: [0.0492751]\n"
          ],
          "name": "stdout"
        }
      ]
    },
    {
      "cell_type": "code",
      "metadata": {
        "id": "S6EDDeDaclD0",
        "colab": {
          "base_uri": "https://localhost:8080/"
        },
        "outputId": "909945d2-11c9-46b5-e565-377b5aee0fc0"
      },
      "source": [
        "# Perform 10-fold cross validation\n",
        "score = cross_val_score(LinearRegression(),X_train,y_train,cv = 10)\n",
        "print('Cross-validated scores:', score)"
      ],
      "execution_count": null,
      "outputs": [
        {
          "output_type": "stream",
          "text": [
            "Cross-validated scores: [0.75636914 0.73169911 0.69356755 0.57315893 0.64699324 0.48797191\n",
            " 0.5235431  0.63498864 0.57887311 0.36986269]\n"
          ],
          "name": "stdout"
        }
      ]
    },
    {
      "cell_type": "code",
      "metadata": {
        "id": "Vk0LJJbZclGS",
        "colab": {
          "base_uri": "https://localhost:8080/"
        },
        "outputId": "fbed2b21-cce6-4624-a0a5-3e367db56a3f"
      },
      "source": [
        "print('Mean of 10-fold cross validation score : ',score.mean())"
      ],
      "execution_count": null,
      "outputs": [
        {
          "output_type": "stream",
          "text": [
            "Mean of 10-fold cross validation score :  0.5997027430081798\n"
          ],
          "name": "stdout"
        }
      ]
    },
    {
      "cell_type": "code",
      "metadata": {
        "id": "g9ELgKH_clI4",
        "colab": {
          "base_uri": "https://localhost:8080/"
        },
        "outputId": "008cc960-db1f-4e38-9a02-f16b0d4a3121"
      },
      "source": [
        "#Making prediction using model\n",
        "y_pred = model.predict(X_test)\n",
        "y_pred"
      ],
      "execution_count": null,
      "outputs": [
        {
          "output_type": "execute_result",
          "data": {
            "text/plain": [
              "array([17.18696362, 16.77798032, 11.51540011, 20.60665526, 19.30579273,\n",
              "       20.77419058, 14.84639657, 15.70871075, 10.2785952 , 17.41362906,\n",
              "       14.90552669, 10.20961007, 17.37913649, 12.21017895, 17.92609005,\n",
              "       12.99365298, 13.28930355, 21.12404376,  8.0612159 , 17.18203611,\n",
              "       11.74699305, 10.14062494,  8.03657835, 12.09191872, 12.36293175,\n",
              "       16.08320147,  8.92353007, 19.05941725, 15.01885941, 18.63072392,\n",
              "       18.6208689 , 18.35478338, 14.17625527, 15.18639473, 19.03970721,\n",
              "       15.91073864, 17.75855473, 13.17597083, 17.48261419,  7.76556532])"
            ]
          },
          "metadata": {
            "tags": []
          },
          "execution_count": 80
        }
      ]
    },
    {
      "cell_type": "code",
      "metadata": {
        "id": "lYaotCvqclOM",
        "colab": {
          "base_uri": "https://localhost:8080/"
        },
        "outputId": "d956a75b-d83b-472f-db6e-0a2fbb05c48a"
      },
      "source": [
        "# Make cross validated predictions\n",
        "cross_validate_y_pred = cross_val_predict(model, X_test, y_test, cv=10)\n",
        "cross_validate_y_pred"
      ],
      "execution_count": null,
      "outputs": [
        {
          "output_type": "execute_result",
          "data": {
            "text/plain": [
              "array([16.57253732, 16.25411645, 12.15684554, 19.23499614, 17.80120059,\n",
              "       18.85181007, 14.61059124, 15.2275599 , 11.24751965, 16.76343116,\n",
              "       14.8244816 , 11.19418902, 16.75895863, 12.47477299, 17.21229   ,\n",
              "       13.12413955, 13.56674972, 20.31407182,  9.06429139, 16.91919278,\n",
              "       12.48625128, 11.2667708 ,  9.6694758 , 12.74810292, 12.88053424,\n",
              "       15.74211276, 10.23499543, 18.03137557, 14.82223455, 17.67159028,\n",
              "       17.66381578, 17.45390417, 14.1965258 , 14.97354154, 17.93757233,\n",
              "       15.53071869, 17.06564654, 13.63388628, 16.85900291,  9.58219512])"
            ]
          },
          "metadata": {
            "tags": []
          },
          "execution_count": 81
        }
      ]
    },
    {
      "cell_type": "code",
      "metadata": {
        "id": "n_ekUz9jclTy",
        "colab": {
          "base_uri": "https://localhost:8080/"
        },
        "outputId": "c6bcadd6-85dc-46f8-d7e6-47fc26000a85"
      },
      "source": [
        "from sklearn.metrics import mean_squared_error\n",
        "print('MSE value of test and model predicted value :',mean_squared_error(y_test,y_pred))\n",
        "print('MSE value of test and cross validate predicted value :',mean_squared_error(y_test,cross_validate_y_pred))"
      ],
      "execution_count": null,
      "outputs": [
        {
          "output_type": "stream",
          "text": [
            "MSE value of test and model predicted value : 10.85934532560827\n",
            "MSE value of test and cross validate predicted value : 10.725417660885508\n"
          ],
          "name": "stdout"
        }
      ]
    },
    {
      "cell_type": "markdown",
      "metadata": {
        "id": "Mvm6S4BUdbP4"
      },
      "source": [
        "radio"
      ]
    },
    {
      "cell_type": "code",
      "metadata": {
        "id": "kmJonTp5cz6g",
        "colab": {
          "base_uri": "https://localhost:8080/"
        },
        "outputId": "492ffeed-8f82-49b3-aca4-28c21ea0cc95"
      },
      "source": [
        "X = df[['radio']].values\n",
        "y = df['sales'].values\n",
        "print(f'Shape of X is {X.shape}\\nShape of y is {y.shape}')"
      ],
      "execution_count": null,
      "outputs": [
        {
          "output_type": "stream",
          "text": [
            "Shape of X is (200, 1)\n",
            "Shape of y is (200,)\n"
          ],
          "name": "stdout"
        }
      ]
    },
    {
      "cell_type": "code",
      "metadata": {
        "colab": {
          "base_uri": "https://localhost:8080/"
        },
        "id": "ZY4oUqGXJTW8",
        "outputId": "db925352-4121-43b7-a42d-d503dea68303"
      },
      "source": [
        "#Splitting Training and Test Set\n",
        "X_train,X_test,y_train,y_test = train_test_split(X,y,test_size=0.20,random_state=1)\n",
        "print(X_train.shape, X_test.shape, y_train.shape, y_test.shape)"
      ],
      "execution_count": null,
      "outputs": [
        {
          "output_type": "stream",
          "text": [
            "(160, 1) (40, 1) (160,) (40,)\n"
          ],
          "name": "stdout"
        }
      ]
    },
    {
      "cell_type": "code",
      "metadata": {
        "id": "TRYrynSrJTXA"
      },
      "source": [
        "# fit a model\n",
        "regression_model = LinearRegression()\n",
        "model = regression_model.fit(X_train, y_train)"
      ],
      "execution_count": null,
      "outputs": []
    },
    {
      "cell_type": "code",
      "metadata": {
        "colab": {
          "base_uri": "https://localhost:8080/"
        },
        "id": "DdNt5oaLJTXD",
        "outputId": "fe320110-aa57-460a-df5b-7cc3cd2fccab"
      },
      "source": [
        "print('intercept:', model.intercept_)\n",
        "print('coefficients for radio:', model.coef_)"
      ],
      "execution_count": null,
      "outputs": [
        {
          "output_type": "stream",
          "text": [
            "intercept: 9.1341254885822\n",
            "coefficients for radio: [0.20071881]\n"
          ],
          "name": "stdout"
        }
      ]
    },
    {
      "cell_type": "code",
      "metadata": {
        "colab": {
          "base_uri": "https://localhost:8080/"
        },
        "id": "3VJg6U1CJTXF",
        "outputId": "29615b3a-36b2-407e-baa8-15f9884864c8"
      },
      "source": [
        "# Perform 10-fold cross validation\n",
        "score = cross_val_score(LinearRegression(),X_train,y_train,cv = 10)\n",
        "print('Cross-validated scores:', score)"
      ],
      "execution_count": null,
      "outputs": [
        {
          "output_type": "stream",
          "text": [
            "Cross-validated scores: [ 0.47321943  0.13504887  0.03841532  0.28746501 -0.01960751  0.64558085\n",
            "  0.21809692  0.47974202  0.4437043   0.24720168]\n"
          ],
          "name": "stdout"
        }
      ]
    },
    {
      "cell_type": "code",
      "metadata": {
        "colab": {
          "base_uri": "https://localhost:8080/"
        },
        "id": "YvjdBjk6JTXH",
        "outputId": "fed3ad66-3013-4d0f-af2a-b84ccca525f3"
      },
      "source": [
        "print('Mean of 10-fold cross validation score : ',score.mean())"
      ],
      "execution_count": null,
      "outputs": [
        {
          "output_type": "stream",
          "text": [
            "Mean of 10-fold cross validation score :  0.29488669016731234\n"
          ],
          "name": "stdout"
        }
      ]
    },
    {
      "cell_type": "code",
      "metadata": {
        "colab": {
          "base_uri": "https://localhost:8080/"
        },
        "id": "3xY4wAK7JTXI",
        "outputId": "f941e302-fbde-4e1b-89a7-cb9c389147c2"
      },
      "source": [
        "#Making prediction using model\n",
        "y_pred = model.predict(X_test)\n",
        "y_pred"
      ],
      "execution_count": null,
      "outputs": [
        {
          "output_type": "execute_result",
          "data": {
            "text/plain": [
              "array([19.08977823, 13.61015485,  9.41513182, 11.16138542, 13.40943604,\n",
              "       17.56431531, 15.47683974, 11.30188859, 12.34562637, 13.87108929,\n",
              "       13.32914852, 13.248861  , 13.95137682, 18.72848438, 10.78001969,\n",
              "       16.5406494 , 12.82735151,  9.95707259, 16.9621589 , 15.05533025,\n",
              "       11.06102602, 16.48043376, 14.29259878, 11.94418876, 12.6266327 ,\n",
              "       12.76713586, 14.49331759, 14.57360511, 17.56431531, 12.48612954,\n",
              "       17.46395591,  9.81656943, 16.27971496, 10.69973217, 15.19583341,\n",
              "       13.3492204 ,  9.81656943, 10.27822268, 17.94568104, 13.16857348])"
            ]
          },
          "metadata": {
            "tags": []
          },
          "execution_count": 89
        }
      ]
    },
    {
      "cell_type": "code",
      "metadata": {
        "colab": {
          "base_uri": "https://localhost:8080/"
        },
        "id": "j113COYoJTXJ",
        "outputId": "a09413eb-e78b-452e-9fa7-5aa96bd15367"
      },
      "source": [
        "# Make cross validated predictions\n",
        "cross_validate_y_pred = cross_val_predict(model, X_test, y_test, cv=10)\n",
        "cross_validate_y_pred"
      ],
      "execution_count": null,
      "outputs": [
        {
          "output_type": "execute_result",
          "data": {
            "text/plain": [
              "array([20.00382024, 14.50805049, 10.30066632, 12.05206547, 14.21352928,\n",
              "       18.23925965, 16.21667048, 12.17149214, 13.48660036, 15.07144575,\n",
              "       14.50840857, 14.42499566, 15.12780355, 20.74060646, 11.40165708,\n",
              "       18.17003706, 13.89852238, 10.49249854, 18.80510218, 16.54235907,\n",
              "       12.2864571 , 18.26630233, 15.85221666, 13.26095039, 13.73248075,\n",
              "       13.88176947, 15.71588805, 15.80119589, 18.4547924 , 13.31965289,\n",
              "       18.35330743, 10.62015266, 17.35344442, 11.52363   , 16.22103442,\n",
              "       14.29174332, 10.99879457, 11.46050899, 19.12898321, 14.35124272])"
            ]
          },
          "metadata": {
            "tags": []
          },
          "execution_count": 90
        }
      ]
    },
    {
      "cell_type": "code",
      "metadata": {
        "colab": {
          "base_uri": "https://localhost:8080/"
        },
        "id": "_KNsZw34JTXL",
        "outputId": "e0677898-95d8-4e2f-f764-fdb0230baef2"
      },
      "source": [
        "from sklearn.metrics import mean_squared_error\n",
        "print('MSE value of test and model predicted value :',mean_squared_error(y_test,y_pred))\n",
        "print('MSE value of test and cross validate predicted value :',mean_squared_error(y_test,cross_validate_y_pred))"
      ],
      "execution_count": null,
      "outputs": [
        {
          "output_type": "stream",
          "text": [
            "MSE value of test and model predicted value : 11.940633086605168\n",
            "MSE value of test and cross validate predicted value : 12.17345112142154\n"
          ],
          "name": "stdout"
        }
      ]
    },
    {
      "cell_type": "markdown",
      "metadata": {
        "id": "4PnYCp-1ddp1"
      },
      "source": [
        "newspaper"
      ]
    },
    {
      "cell_type": "code",
      "metadata": {
        "id": "xUsncaUgdNEk",
        "colab": {
          "base_uri": "https://localhost:8080/"
        },
        "outputId": "786013de-1bb5-4a02-91db-3fb04a1093b9"
      },
      "source": [
        "X = df[['newspaper']].values\n",
        "y = df['sales'].values\n",
        "print(f'Shape of X is {X.shape}\\nShape of y is {y.shape}')"
      ],
      "execution_count": null,
      "outputs": [
        {
          "output_type": "stream",
          "text": [
            "Shape of X is (200, 1)\n",
            "Shape of y is (200,)\n"
          ],
          "name": "stdout"
        }
      ]
    },
    {
      "cell_type": "code",
      "metadata": {
        "colab": {
          "base_uri": "https://localhost:8080/"
        },
        "id": "2rn6kaanSG7T",
        "outputId": "8fd9f643-43f7-4fab-a907-e8448d420413"
      },
      "source": [
        "#Splitting Training and Test Set\n",
        "X_train,X_test,y_train,y_test = train_test_split(X,y,test_size=0.20,random_state=1)\n",
        "print(X_train.shape, X_test.shape, y_train.shape, y_test.shape)"
      ],
      "execution_count": null,
      "outputs": [
        {
          "output_type": "stream",
          "text": [
            "(160, 1) (40, 1) (160,) (40,)\n"
          ],
          "name": "stdout"
        }
      ]
    },
    {
      "cell_type": "code",
      "metadata": {
        "id": "tDY0FD1RSG7W"
      },
      "source": [
        "# fit a model\n",
        "regression_model = LinearRegression()\n",
        "model = regression_model.fit(X_train, y_train)"
      ],
      "execution_count": null,
      "outputs": []
    },
    {
      "cell_type": "code",
      "metadata": {
        "colab": {
          "base_uri": "https://localhost:8080/"
        },
        "id": "Qgv-kIKDSG7X",
        "outputId": "9a3f85d0-32b9-4d61-d8b8-b97756f88937"
      },
      "source": [
        "print('intercept:', model.intercept_)\n",
        "print('coefficients for radio:', model.coef_)"
      ],
      "execution_count": null,
      "outputs": [
        {
          "output_type": "stream",
          "text": [
            "intercept: 11.70578033481604\n",
            "coefficients for radio: [0.07029362]\n"
          ],
          "name": "stdout"
        }
      ]
    },
    {
      "cell_type": "code",
      "metadata": {
        "colab": {
          "base_uri": "https://localhost:8080/"
        },
        "id": "ttbdtMIGSG7Z",
        "outputId": "a3af9675-a02d-4607-edac-23859b2b5af9"
      },
      "source": [
        "# Perform 10-fold cross validation\n",
        "score = cross_val_score(LinearRegression(),X_train,y_train,cv = 10)\n",
        "print('Cross-validated scores:', score)"
      ],
      "execution_count": null,
      "outputs": [
        {
          "output_type": "stream",
          "text": [
            "Cross-validated scores: [ 0.07349645  0.02570977  0.17597472 -0.34566573  0.18354374  0.14887612\n",
            " -0.39536792  0.03611138 -0.01639868  0.27285977]\n"
          ],
          "name": "stdout"
        }
      ]
    },
    {
      "cell_type": "code",
      "metadata": {
        "colab": {
          "base_uri": "https://localhost:8080/"
        },
        "id": "M_ITDJSQSG7a",
        "outputId": "4bc157fe-9cd6-49c5-f2e8-167a59f1b326"
      },
      "source": [
        "print('Mean of 10-fold cross validation score : ',score.mean())"
      ],
      "execution_count": null,
      "outputs": [
        {
          "output_type": "stream",
          "text": [
            "Mean of 10-fold cross validation score :  0.015913961991653586\n"
          ],
          "name": "stdout"
        }
      ]
    },
    {
      "cell_type": "code",
      "metadata": {
        "colab": {
          "base_uri": "https://localhost:8080/"
        },
        "id": "h09gHMq_SG7b",
        "outputId": "64e21f8e-e189-4061-d096-2241a59434ae"
      },
      "source": [
        "#Making prediction using model\n",
        "y_pred = model.predict(X_test)\n",
        "y_pred"
      ],
      "execution_count": null,
      "outputs": [
        {
          "output_type": "execute_result",
          "data": {
            "text/plain": [
              "array([14.35584982, 13.92705874, 12.22595313, 13.21006381, 13.81458895,\n",
              "       16.35921801, 15.42431285, 15.81092777, 14.57376005, 15.75469287,\n",
              "       15.03769794, 12.99215359, 11.98695482, 15.31887242, 15.67736989,\n",
              "       17.27303507, 14.1379396 , 12.30327611, 12.359511  , 12.359511  ,\n",
              "       11.95883737, 19.71925306, 14.7494941 , 12.4719808 , 14.41911408,\n",
              "       13.50529702, 14.17308641, 13.31550424, 11.95883737, 13.31550424,\n",
              "       13.00621231, 17.66667935, 12.12754206, 14.18011577, 13.13274083,\n",
              "       13.25223998, 12.62662676, 13.90597065, 13.61776681, 12.90077188])"
            ]
          },
          "metadata": {
            "tags": []
          },
          "execution_count": 98
        }
      ]
    },
    {
      "cell_type": "code",
      "metadata": {
        "colab": {
          "base_uri": "https://localhost:8080/"
        },
        "id": "A5GqV2PESG7c",
        "outputId": "61c530e3-7159-43e7-d9f6-47f9dc3d2c12"
      },
      "source": [
        "# Make cross validated predictions\n",
        "cross_validate_y_pred = cross_val_predict(model, X_test, y_test, cv=10)\n",
        "cross_validate_y_pred"
      ],
      "execution_count": null,
      "outputs": [
        {
          "output_type": "execute_result",
          "data": {
            "text/plain": [
              "array([14.70871381, 14.73038253, 14.81634696, 14.76661547, 14.5054726 ,\n",
              "       14.04036295, 14.21124578, 14.14057995, 15.04806399, 15.07105   ,\n",
              "       15.05709421, 15.01727915, 14.60009172, 14.87470119, 14.90424778,\n",
              "       15.03575907, 15.03068935, 15.04201517, 15.04166802, 15.04166802,\n",
              "       15.00313932, 16.23924856, 15.44764599, 15.0848748 , 15.00635277,\n",
              "       14.91703997, 14.98230702, 14.89849038, 13.78083079, 14.29094294,\n",
              "       14.17464794, 15.92700211, 14.4094351 , 14.73213784, 14.56747103,\n",
              "       14.58625852, 15.12156393, 15.07172393, 15.08295162, 15.11088393])"
            ]
          },
          "metadata": {
            "tags": []
          },
          "execution_count": 99
        }
      ]
    },
    {
      "cell_type": "code",
      "metadata": {
        "colab": {
          "base_uri": "https://localhost:8080/"
        },
        "id": "xzbCbR5OSG7d",
        "outputId": "9398a136-7717-44e1-830f-e9103aba9868"
      },
      "source": [
        "from sklearn.metrics import mean_squared_error\n",
        "print('MSE value of test and model predicted value :',mean_squared_error(y_test,y_pred))\n",
        "print('MSE value of test and cross validate predicted value :',mean_squared_error(y_test,cross_validate_y_pred))"
      ],
      "execution_count": null,
      "outputs": [
        {
          "output_type": "stream",
          "text": [
            "MSE value of test and model predicted value : 21.855358682807495\n",
            "MSE value of test and cross validate predicted value : 20.857324867911906\n"
          ],
          "name": "stdout"
        }
      ]
    },
    {
      "cell_type": "markdown",
      "metadata": {
        "id": "J9z0k6KWxeKk"
      },
      "source": [
        "#Q8. This question involves the use of multiple linear regression on the Auto data set\n",
        "(https://www.kaggle.com/uciml/autompg-dataset).\n",
        "\n",
        "Compute the matrix of correlations between the variables\n",
        "\n",
        "● Fit a least square linear model, You will need to exclude the name variable which is qualitative.\n",
        "\n",
        "● Use the multiple linear regression with mp"
      ]
    },
    {
      "cell_type": "code",
      "metadata": {
        "id": "z32ZhveRJbiY",
        "colab": {
          "base_uri": "https://localhost:8080/",
          "height": 199
        },
        "outputId": "52c49d1a-0496-4208-87e1-250042e5b193"
      },
      "source": [
        "mpg_df = pd.read_csv(\"auto-mpg.csv\")\n",
        "\n",
        "mpg_df = mpg_df.drop('car name', axis=1)\n",
        "\n",
        "mpg_df.head()"
      ],
      "execution_count": null,
      "outputs": [
        {
          "output_type": "execute_result",
          "data": {
            "text/html": [
              "<div>\n",
              "<style scoped>\n",
              "    .dataframe tbody tr th:only-of-type {\n",
              "        vertical-align: middle;\n",
              "    }\n",
              "\n",
              "    .dataframe tbody tr th {\n",
              "        vertical-align: top;\n",
              "    }\n",
              "\n",
              "    .dataframe thead th {\n",
              "        text-align: right;\n",
              "    }\n",
              "</style>\n",
              "<table border=\"1\" class=\"dataframe\">\n",
              "  <thead>\n",
              "    <tr style=\"text-align: right;\">\n",
              "      <th></th>\n",
              "      <th>mpg</th>\n",
              "      <th>cylinders</th>\n",
              "      <th>displacement</th>\n",
              "      <th>horsepower</th>\n",
              "      <th>weight</th>\n",
              "      <th>acceleration</th>\n",
              "      <th>model year</th>\n",
              "      <th>origin</th>\n",
              "    </tr>\n",
              "  </thead>\n",
              "  <tbody>\n",
              "    <tr>\n",
              "      <th>0</th>\n",
              "      <td>18.0</td>\n",
              "      <td>8</td>\n",
              "      <td>307.0</td>\n",
              "      <td>130</td>\n",
              "      <td>3504</td>\n",
              "      <td>12.0</td>\n",
              "      <td>70</td>\n",
              "      <td>1</td>\n",
              "    </tr>\n",
              "    <tr>\n",
              "      <th>1</th>\n",
              "      <td>15.0</td>\n",
              "      <td>8</td>\n",
              "      <td>350.0</td>\n",
              "      <td>165</td>\n",
              "      <td>3693</td>\n",
              "      <td>11.5</td>\n",
              "      <td>70</td>\n",
              "      <td>1</td>\n",
              "    </tr>\n",
              "    <tr>\n",
              "      <th>2</th>\n",
              "      <td>18.0</td>\n",
              "      <td>8</td>\n",
              "      <td>318.0</td>\n",
              "      <td>150</td>\n",
              "      <td>3436</td>\n",
              "      <td>11.0</td>\n",
              "      <td>70</td>\n",
              "      <td>1</td>\n",
              "    </tr>\n",
              "    <tr>\n",
              "      <th>3</th>\n",
              "      <td>16.0</td>\n",
              "      <td>8</td>\n",
              "      <td>304.0</td>\n",
              "      <td>150</td>\n",
              "      <td>3433</td>\n",
              "      <td>12.0</td>\n",
              "      <td>70</td>\n",
              "      <td>1</td>\n",
              "    </tr>\n",
              "    <tr>\n",
              "      <th>4</th>\n",
              "      <td>17.0</td>\n",
              "      <td>8</td>\n",
              "      <td>302.0</td>\n",
              "      <td>140</td>\n",
              "      <td>3449</td>\n",
              "      <td>10.5</td>\n",
              "      <td>70</td>\n",
              "      <td>1</td>\n",
              "    </tr>\n",
              "  </tbody>\n",
              "</table>\n",
              "</div>"
            ],
            "text/plain": [
              "    mpg  cylinders  displacement  ... acceleration  model year  origin\n",
              "0  18.0          8         307.0  ...         12.0          70       1\n",
              "1  15.0          8         350.0  ...         11.5          70       1\n",
              "2  18.0          8         318.0  ...         11.0          70       1\n",
              "3  16.0          8         304.0  ...         12.0          70       1\n",
              "4  17.0          8         302.0  ...         10.5          70       1\n",
              "\n",
              "[5 rows x 8 columns]"
            ]
          },
          "metadata": {
            "tags": []
          },
          "execution_count": 35
        }
      ]
    },
    {
      "cell_type": "code",
      "metadata": {
        "id": "scEOYSyF41AS",
        "colab": {
          "base_uri": "https://localhost:8080/",
          "height": 199
        },
        "outputId": "7ae59831-bc1b-4c8b-c0c8-6fa26100412b"
      },
      "source": [
        "pd.unique(mpg_df.origin)\n",
        "\n",
        "mpg_df['origin'] = mpg_df['origin'].replace({1: 'america', 2: 'europe', 3: 'asia'})\n",
        "mpg_df = pd.get_dummies(mpg_df, columns=['origin'], drop_first=True)\n",
        "mpg_df.head()"
      ],
      "execution_count": null,
      "outputs": [
        {
          "output_type": "execute_result",
          "data": {
            "text/html": [
              "<div>\n",
              "<style scoped>\n",
              "    .dataframe tbody tr th:only-of-type {\n",
              "        vertical-align: middle;\n",
              "    }\n",
              "\n",
              "    .dataframe tbody tr th {\n",
              "        vertical-align: top;\n",
              "    }\n",
              "\n",
              "    .dataframe thead th {\n",
              "        text-align: right;\n",
              "    }\n",
              "</style>\n",
              "<table border=\"1\" class=\"dataframe\">\n",
              "  <thead>\n",
              "    <tr style=\"text-align: right;\">\n",
              "      <th></th>\n",
              "      <th>mpg</th>\n",
              "      <th>cylinders</th>\n",
              "      <th>displacement</th>\n",
              "      <th>horsepower</th>\n",
              "      <th>weight</th>\n",
              "      <th>acceleration</th>\n",
              "      <th>model year</th>\n",
              "      <th>origin_asia</th>\n",
              "      <th>origin_europe</th>\n",
              "    </tr>\n",
              "  </thead>\n",
              "  <tbody>\n",
              "    <tr>\n",
              "      <th>0</th>\n",
              "      <td>18.0</td>\n",
              "      <td>8</td>\n",
              "      <td>307.0</td>\n",
              "      <td>130</td>\n",
              "      <td>3504</td>\n",
              "      <td>12.0</td>\n",
              "      <td>70</td>\n",
              "      <td>0</td>\n",
              "      <td>0</td>\n",
              "    </tr>\n",
              "    <tr>\n",
              "      <th>1</th>\n",
              "      <td>15.0</td>\n",
              "      <td>8</td>\n",
              "      <td>350.0</td>\n",
              "      <td>165</td>\n",
              "      <td>3693</td>\n",
              "      <td>11.5</td>\n",
              "      <td>70</td>\n",
              "      <td>0</td>\n",
              "      <td>0</td>\n",
              "    </tr>\n",
              "    <tr>\n",
              "      <th>2</th>\n",
              "      <td>18.0</td>\n",
              "      <td>8</td>\n",
              "      <td>318.0</td>\n",
              "      <td>150</td>\n",
              "      <td>3436</td>\n",
              "      <td>11.0</td>\n",
              "      <td>70</td>\n",
              "      <td>0</td>\n",
              "      <td>0</td>\n",
              "    </tr>\n",
              "    <tr>\n",
              "      <th>3</th>\n",
              "      <td>16.0</td>\n",
              "      <td>8</td>\n",
              "      <td>304.0</td>\n",
              "      <td>150</td>\n",
              "      <td>3433</td>\n",
              "      <td>12.0</td>\n",
              "      <td>70</td>\n",
              "      <td>0</td>\n",
              "      <td>0</td>\n",
              "    </tr>\n",
              "    <tr>\n",
              "      <th>4</th>\n",
              "      <td>17.0</td>\n",
              "      <td>8</td>\n",
              "      <td>302.0</td>\n",
              "      <td>140</td>\n",
              "      <td>3449</td>\n",
              "      <td>10.5</td>\n",
              "      <td>70</td>\n",
              "      <td>0</td>\n",
              "      <td>0</td>\n",
              "    </tr>\n",
              "  </tbody>\n",
              "</table>\n",
              "</div>"
            ],
            "text/plain": [
              "    mpg  cylinders  displacement  ... model year  origin_asia  origin_europe\n",
              "0  18.0          8         307.0  ...         70            0              0\n",
              "1  15.0          8         350.0  ...         70            0              0\n",
              "2  18.0          8         318.0  ...         70            0              0\n",
              "3  16.0          8         304.0  ...         70            0              0\n",
              "4  17.0          8         302.0  ...         70            0              0\n",
              "\n",
              "[5 rows x 9 columns]"
            ]
          },
          "metadata": {
            "tags": []
          },
          "execution_count": 36
        }
      ]
    },
    {
      "cell_type": "code",
      "metadata": {
        "id": "sHBEJUWi6ev1"
      },
      "source": [
        "mpg_df = mpg_df.replace('?', np.nan)"
      ],
      "execution_count": null,
      "outputs": []
    },
    {
      "cell_type": "code",
      "metadata": {
        "colab": {
          "base_uri": "https://localhost:8080/",
          "height": 230
        },
        "id": "WRLmf4Qv7A-E",
        "outputId": "d2f58cef-9ae6-4a6a-e8f7-3132aab0f276"
      },
      "source": [
        "mpg_df[mpg_df.isnull().any(axis=1)]"
      ],
      "execution_count": null,
      "outputs": [
        {
          "output_type": "execute_result",
          "data": {
            "text/html": [
              "<div>\n",
              "<style scoped>\n",
              "    .dataframe tbody tr th:only-of-type {\n",
              "        vertical-align: middle;\n",
              "    }\n",
              "\n",
              "    .dataframe tbody tr th {\n",
              "        vertical-align: top;\n",
              "    }\n",
              "\n",
              "    .dataframe thead th {\n",
              "        text-align: right;\n",
              "    }\n",
              "</style>\n",
              "<table border=\"1\" class=\"dataframe\">\n",
              "  <thead>\n",
              "    <tr style=\"text-align: right;\">\n",
              "      <th></th>\n",
              "      <th>mpg</th>\n",
              "      <th>cylinders</th>\n",
              "      <th>displacement</th>\n",
              "      <th>horsepower</th>\n",
              "      <th>weight</th>\n",
              "      <th>acceleration</th>\n",
              "      <th>model year</th>\n",
              "      <th>origin_asia</th>\n",
              "      <th>origin_europe</th>\n",
              "    </tr>\n",
              "  </thead>\n",
              "  <tbody>\n",
              "    <tr>\n",
              "      <th>32</th>\n",
              "      <td>25.0</td>\n",
              "      <td>4</td>\n",
              "      <td>98.0</td>\n",
              "      <td>NaN</td>\n",
              "      <td>2046</td>\n",
              "      <td>19.0</td>\n",
              "      <td>71</td>\n",
              "      <td>0</td>\n",
              "      <td>0</td>\n",
              "    </tr>\n",
              "    <tr>\n",
              "      <th>126</th>\n",
              "      <td>21.0</td>\n",
              "      <td>6</td>\n",
              "      <td>200.0</td>\n",
              "      <td>NaN</td>\n",
              "      <td>2875</td>\n",
              "      <td>17.0</td>\n",
              "      <td>74</td>\n",
              "      <td>0</td>\n",
              "      <td>0</td>\n",
              "    </tr>\n",
              "    <tr>\n",
              "      <th>330</th>\n",
              "      <td>40.9</td>\n",
              "      <td>4</td>\n",
              "      <td>85.0</td>\n",
              "      <td>NaN</td>\n",
              "      <td>1835</td>\n",
              "      <td>17.3</td>\n",
              "      <td>80</td>\n",
              "      <td>0</td>\n",
              "      <td>1</td>\n",
              "    </tr>\n",
              "    <tr>\n",
              "      <th>336</th>\n",
              "      <td>23.6</td>\n",
              "      <td>4</td>\n",
              "      <td>140.0</td>\n",
              "      <td>NaN</td>\n",
              "      <td>2905</td>\n",
              "      <td>14.3</td>\n",
              "      <td>80</td>\n",
              "      <td>0</td>\n",
              "      <td>0</td>\n",
              "    </tr>\n",
              "    <tr>\n",
              "      <th>354</th>\n",
              "      <td>34.5</td>\n",
              "      <td>4</td>\n",
              "      <td>100.0</td>\n",
              "      <td>NaN</td>\n",
              "      <td>2320</td>\n",
              "      <td>15.8</td>\n",
              "      <td>81</td>\n",
              "      <td>0</td>\n",
              "      <td>1</td>\n",
              "    </tr>\n",
              "    <tr>\n",
              "      <th>374</th>\n",
              "      <td>23.0</td>\n",
              "      <td>4</td>\n",
              "      <td>151.0</td>\n",
              "      <td>NaN</td>\n",
              "      <td>3035</td>\n",
              "      <td>20.5</td>\n",
              "      <td>82</td>\n",
              "      <td>0</td>\n",
              "      <td>0</td>\n",
              "    </tr>\n",
              "  </tbody>\n",
              "</table>\n",
              "</div>"
            ],
            "text/plain": [
              "      mpg  cylinders  displacement  ... model year  origin_asia  origin_europe\n",
              "32   25.0          4          98.0  ...         71            0              0\n",
              "126  21.0          6         200.0  ...         74            0              0\n",
              "330  40.9          4          85.0  ...         80            0              1\n",
              "336  23.6          4         140.0  ...         80            0              0\n",
              "354  34.5          4         100.0  ...         81            0              1\n",
              "374  23.0          4         151.0  ...         82            0              0\n",
              "\n",
              "[6 rows x 9 columns]"
            ]
          },
          "metadata": {
            "tags": []
          },
          "execution_count": 38
        }
      ]
    },
    {
      "cell_type": "code",
      "metadata": {
        "id": "ALrlAru57VND",
        "colab": {
          "base_uri": "https://localhost:8080/",
          "height": 199
        },
        "outputId": "d0a4b908-f965-4d6e-cd2d-66de02829abb"
      },
      "source": [
        "mpg_df = mpg_df.apply(lambda x: x.fillna(x.median()),axis=0)\n",
        "\n",
        "mpg_df['horsepower'] = mpg_df['horsepower'].astype('float64')\n",
        "\n",
        "mpg_df.head()\n"
      ],
      "execution_count": null,
      "outputs": [
        {
          "output_type": "execute_result",
          "data": {
            "text/html": [
              "<div>\n",
              "<style scoped>\n",
              "    .dataframe tbody tr th:only-of-type {\n",
              "        vertical-align: middle;\n",
              "    }\n",
              "\n",
              "    .dataframe tbody tr th {\n",
              "        vertical-align: top;\n",
              "    }\n",
              "\n",
              "    .dataframe thead th {\n",
              "        text-align: right;\n",
              "    }\n",
              "</style>\n",
              "<table border=\"1\" class=\"dataframe\">\n",
              "  <thead>\n",
              "    <tr style=\"text-align: right;\">\n",
              "      <th></th>\n",
              "      <th>mpg</th>\n",
              "      <th>cylinders</th>\n",
              "      <th>displacement</th>\n",
              "      <th>horsepower</th>\n",
              "      <th>weight</th>\n",
              "      <th>acceleration</th>\n",
              "      <th>model year</th>\n",
              "      <th>origin_asia</th>\n",
              "      <th>origin_europe</th>\n",
              "    </tr>\n",
              "  </thead>\n",
              "  <tbody>\n",
              "    <tr>\n",
              "      <th>0</th>\n",
              "      <td>18.0</td>\n",
              "      <td>8</td>\n",
              "      <td>307.0</td>\n",
              "      <td>130.0</td>\n",
              "      <td>3504</td>\n",
              "      <td>12.0</td>\n",
              "      <td>70</td>\n",
              "      <td>0</td>\n",
              "      <td>0</td>\n",
              "    </tr>\n",
              "    <tr>\n",
              "      <th>1</th>\n",
              "      <td>15.0</td>\n",
              "      <td>8</td>\n",
              "      <td>350.0</td>\n",
              "      <td>165.0</td>\n",
              "      <td>3693</td>\n",
              "      <td>11.5</td>\n",
              "      <td>70</td>\n",
              "      <td>0</td>\n",
              "      <td>0</td>\n",
              "    </tr>\n",
              "    <tr>\n",
              "      <th>2</th>\n",
              "      <td>18.0</td>\n",
              "      <td>8</td>\n",
              "      <td>318.0</td>\n",
              "      <td>150.0</td>\n",
              "      <td>3436</td>\n",
              "      <td>11.0</td>\n",
              "      <td>70</td>\n",
              "      <td>0</td>\n",
              "      <td>0</td>\n",
              "    </tr>\n",
              "    <tr>\n",
              "      <th>3</th>\n",
              "      <td>16.0</td>\n",
              "      <td>8</td>\n",
              "      <td>304.0</td>\n",
              "      <td>150.0</td>\n",
              "      <td>3433</td>\n",
              "      <td>12.0</td>\n",
              "      <td>70</td>\n",
              "      <td>0</td>\n",
              "      <td>0</td>\n",
              "    </tr>\n",
              "    <tr>\n",
              "      <th>4</th>\n",
              "      <td>17.0</td>\n",
              "      <td>8</td>\n",
              "      <td>302.0</td>\n",
              "      <td>140.0</td>\n",
              "      <td>3449</td>\n",
              "      <td>10.5</td>\n",
              "      <td>70</td>\n",
              "      <td>0</td>\n",
              "      <td>0</td>\n",
              "    </tr>\n",
              "  </tbody>\n",
              "</table>\n",
              "</div>"
            ],
            "text/plain": [
              "    mpg  cylinders  displacement  ...  model year  origin_asia  origin_europe\n",
              "0  18.0          8         307.0  ...          70            0              0\n",
              "1  15.0          8         350.0  ...          70            0              0\n",
              "2  18.0          8         318.0  ...          70            0              0\n",
              "3  16.0          8         304.0  ...          70            0              0\n",
              "4  17.0          8         302.0  ...          70            0              0\n",
              "\n",
              "[5 rows x 9 columns]"
            ]
          },
          "metadata": {
            "tags": []
          },
          "execution_count": 39
        }
      ]
    },
    {
      "cell_type": "code",
      "metadata": {
        "colab": {
          "base_uri": "https://localhost:8080/",
          "height": 388
        },
        "id": "Z_PrufYIhY_W",
        "outputId": "4ca6627d-7837-4ed6-a778-744d08980cc1"
      },
      "source": [
        "print(\"Compute the matric correlation between variable\\n\\n\\n\")\n",
        "mpg_df.corr()"
      ],
      "execution_count": null,
      "outputs": [
        {
          "output_type": "stream",
          "text": [
            "Compute the matric correlation between variable\n",
            "\n",
            "\n",
            "\n"
          ],
          "name": "stdout"
        },
        {
          "output_type": "execute_result",
          "data": {
            "text/html": [
              "<div>\n",
              "<style scoped>\n",
              "    .dataframe tbody tr th:only-of-type {\n",
              "        vertical-align: middle;\n",
              "    }\n",
              "\n",
              "    .dataframe tbody tr th {\n",
              "        vertical-align: top;\n",
              "    }\n",
              "\n",
              "    .dataframe thead th {\n",
              "        text-align: right;\n",
              "    }\n",
              "</style>\n",
              "<table border=\"1\" class=\"dataframe\">\n",
              "  <thead>\n",
              "    <tr style=\"text-align: right;\">\n",
              "      <th></th>\n",
              "      <th>mpg</th>\n",
              "      <th>cylinders</th>\n",
              "      <th>displacement</th>\n",
              "      <th>horsepower</th>\n",
              "      <th>weight</th>\n",
              "      <th>acceleration</th>\n",
              "      <th>model year</th>\n",
              "      <th>origin_asia</th>\n",
              "      <th>origin_europe</th>\n",
              "    </tr>\n",
              "  </thead>\n",
              "  <tbody>\n",
              "    <tr>\n",
              "      <th>mpg</th>\n",
              "      <td>1.000000</td>\n",
              "      <td>-0.775396</td>\n",
              "      <td>-0.804203</td>\n",
              "      <td>-0.773453</td>\n",
              "      <td>-0.831741</td>\n",
              "      <td>0.420289</td>\n",
              "      <td>0.579267</td>\n",
              "      <td>0.442174</td>\n",
              "      <td>0.259022</td>\n",
              "    </tr>\n",
              "    <tr>\n",
              "      <th>cylinders</th>\n",
              "      <td>-0.775396</td>\n",
              "      <td>1.000000</td>\n",
              "      <td>0.950721</td>\n",
              "      <td>0.841284</td>\n",
              "      <td>0.896017</td>\n",
              "      <td>-0.505419</td>\n",
              "      <td>-0.348746</td>\n",
              "      <td>-0.396479</td>\n",
              "      <td>-0.352861</td>\n",
              "    </tr>\n",
              "    <tr>\n",
              "      <th>displacement</th>\n",
              "      <td>-0.804203</td>\n",
              "      <td>0.950721</td>\n",
              "      <td>1.000000</td>\n",
              "      <td>0.895778</td>\n",
              "      <td>0.932824</td>\n",
              "      <td>-0.543684</td>\n",
              "      <td>-0.370164</td>\n",
              "      <td>-0.433505</td>\n",
              "      <td>-0.373886</td>\n",
              "    </tr>\n",
              "    <tr>\n",
              "      <th>horsepower</th>\n",
              "      <td>-0.773453</td>\n",
              "      <td>0.841284</td>\n",
              "      <td>0.895778</td>\n",
              "      <td>1.000000</td>\n",
              "      <td>0.862442</td>\n",
              "      <td>-0.686590</td>\n",
              "      <td>-0.413733</td>\n",
              "      <td>-0.318972</td>\n",
              "      <td>-0.282877</td>\n",
              "    </tr>\n",
              "    <tr>\n",
              "      <th>weight</th>\n",
              "      <td>-0.831741</td>\n",
              "      <td>0.896017</td>\n",
              "      <td>0.932824</td>\n",
              "      <td>0.862442</td>\n",
              "      <td>1.000000</td>\n",
              "      <td>-0.417457</td>\n",
              "      <td>-0.306564</td>\n",
              "      <td>-0.440817</td>\n",
              "      <td>-0.298843</td>\n",
              "    </tr>\n",
              "    <tr>\n",
              "      <th>acceleration</th>\n",
              "      <td>0.420289</td>\n",
              "      <td>-0.505419</td>\n",
              "      <td>-0.543684</td>\n",
              "      <td>-0.686590</td>\n",
              "      <td>-0.417457</td>\n",
              "      <td>1.000000</td>\n",
              "      <td>0.288137</td>\n",
              "      <td>0.109144</td>\n",
              "      <td>0.204473</td>\n",
              "    </tr>\n",
              "    <tr>\n",
              "      <th>model year</th>\n",
              "      <td>0.579267</td>\n",
              "      <td>-0.348746</td>\n",
              "      <td>-0.370164</td>\n",
              "      <td>-0.413733</td>\n",
              "      <td>-0.306564</td>\n",
              "      <td>0.288137</td>\n",
              "      <td>1.000000</td>\n",
              "      <td>0.193101</td>\n",
              "      <td>-0.024489</td>\n",
              "    </tr>\n",
              "    <tr>\n",
              "      <th>origin_asia</th>\n",
              "      <td>0.442174</td>\n",
              "      <td>-0.396479</td>\n",
              "      <td>-0.433505</td>\n",
              "      <td>-0.318972</td>\n",
              "      <td>-0.440817</td>\n",
              "      <td>0.109144</td>\n",
              "      <td>0.193101</td>\n",
              "      <td>1.000000</td>\n",
              "      <td>-0.229895</td>\n",
              "    </tr>\n",
              "    <tr>\n",
              "      <th>origin_europe</th>\n",
              "      <td>0.259022</td>\n",
              "      <td>-0.352861</td>\n",
              "      <td>-0.373886</td>\n",
              "      <td>-0.282877</td>\n",
              "      <td>-0.298843</td>\n",
              "      <td>0.204473</td>\n",
              "      <td>-0.024489</td>\n",
              "      <td>-0.229895</td>\n",
              "      <td>1.000000</td>\n",
              "    </tr>\n",
              "  </tbody>\n",
              "</table>\n",
              "</div>"
            ],
            "text/plain": [
              "                    mpg  cylinders  ...  origin_asia  origin_europe\n",
              "mpg            1.000000  -0.775396  ...     0.442174       0.259022\n",
              "cylinders     -0.775396   1.000000  ...    -0.396479      -0.352861\n",
              "displacement  -0.804203   0.950721  ...    -0.433505      -0.373886\n",
              "horsepower    -0.773453   0.841284  ...    -0.318972      -0.282877\n",
              "weight        -0.831741   0.896017  ...    -0.440817      -0.298843\n",
              "acceleration   0.420289  -0.505419  ...     0.109144       0.204473\n",
              "model year     0.579267  -0.348746  ...     0.193101      -0.024489\n",
              "origin_asia    0.442174  -0.396479  ...     1.000000      -0.229895\n",
              "origin_europe  0.259022  -0.352861  ...    -0.229895       1.000000\n",
              "\n",
              "[9 rows x 9 columns]"
            ]
          },
          "metadata": {
            "tags": []
          },
          "execution_count": 60
        }
      ]
    },
    {
      "cell_type": "code",
      "metadata": {
        "id": "hcOwaEzd8K5s",
        "colab": {
          "base_uri": "https://localhost:8080/"
        },
        "outputId": "476c41fb-e6e5-4da7-ddba-a51525499d50"
      },
      "source": [
        "X = mpg_df.drop('mpg', axis=1)\n",
        "y = mpg_df[['mpg']]\n",
        "\n",
        "X_train, X_test, y_train, y_test = train_test_split(X, y, test_size=0.3, random_state=1)\n",
        "\n",
        "regression_model = LinearRegression()\n",
        "regression_model.fit(X_train, y_train)"
      ],
      "execution_count": null,
      "outputs": [
        {
          "output_type": "execute_result",
          "data": {
            "text/plain": [
              "LinearRegression(copy_X=True, fit_intercept=True, n_jobs=None, normalize=False)"
            ]
          },
          "metadata": {
            "tags": []
          },
          "execution_count": 41
        }
      ]
    },
    {
      "cell_type": "code",
      "metadata": {
        "colab": {
          "base_uri": "https://localhost:8080/"
        },
        "id": "c67bXPNZ9CMr",
        "outputId": "ff2cba73-7849-4a6d-91d6-bf3d8228c100"
      },
      "source": [
        "print(\"intercept = \",regression_model.intercept_)"
      ],
      "execution_count": null,
      "outputs": [
        {
          "output_type": "stream",
          "text": [
            "intercept =  [-21.28473412]\n"
          ],
          "name": "stdout"
        }
      ]
    },
    {
      "cell_type": "code",
      "metadata": {
        "colab": {
          "base_uri": "https://localhost:8080/"
        },
        "id": "uR7Yfu_U9JMb",
        "outputId": "2be678bd-b157-4b44-ecca-572a1e438832"
      },
      "source": [
        "for idx, col_name in enumerate(X_train.columns):\n",
        "    print(\"The coefficient for {} is {}\".format(col_name, regression_model.coef_[0][idx]))"
      ],
      "execution_count": null,
      "outputs": [
        {
          "output_type": "stream",
          "text": [
            "The coefficient for cylinders is -0.3948079661648318\n",
            "The coefficient for displacement is 0.028945510765487518\n",
            "The coefficient for horsepower is -0.021752207723547454\n",
            "The coefficient for weight is -0.007352032065147351\n",
            "The coefficient for acceleration is 0.06191936600761743\n",
            "The coefficient for model year is 0.8369338917644998\n",
            "The coefficient for origin_asia is 2.395265036593775\n",
            "The coefficient for origin_europe is 3.0012830009185154\n"
          ],
          "name": "stdout"
        }
      ]
    },
    {
      "cell_type": "code",
      "metadata": {
        "colab": {
          "base_uri": "https://localhost:8080/"
        },
        "id": "0MG_bYYM9Sdq",
        "outputId": "3ccf4016-51f7-4dbd-e7b3-84581d1af5a8"
      },
      "source": [
        "regression_model.score(X_train, y_train)"
      ],
      "execution_count": null,
      "outputs": [
        {
          "output_type": "execute_result",
          "data": {
            "text/plain": [
              "0.8141025501610559"
            ]
          },
          "metadata": {
            "tags": []
          },
          "execution_count": 44
        }
      ]
    },
    {
      "cell_type": "code",
      "metadata": {
        "colab": {
          "base_uri": "https://localhost:8080/"
        },
        "id": "0YMkii0Q9bVt",
        "outputId": "949ba57a-a129-4a06-e9e5-97a10cccfcd7"
      },
      "source": [
        "regression_model.score(X_test, y_test)"
      ],
      "execution_count": null,
      "outputs": [
        {
          "output_type": "execute_result",
          "data": {
            "text/plain": [
              "0.8433135132808829"
            ]
          },
          "metadata": {
            "tags": []
          },
          "execution_count": 45
        }
      ]
    },
    {
      "cell_type": "code",
      "metadata": {
        "id": "AKwXrlzx_1nI",
        "colab": {
          "base_uri": "https://localhost:8080/"
        },
        "outputId": "967e7824-c686-407e-e76f-701569ae6844"
      },
      "source": [
        "X1 = mpg_df[[\"weight\"]]\n",
        "y1 = mpg_df[['mpg']]\n",
        "\n",
        "X1_train, X1_test, y1_train, y1_test = train_test_split(X1, y1, test_size=0.3, random_state=1)\n",
        "\n",
        "regression_model = LinearRegression()\n",
        "regression_model.fit(X1_train, y1_train)"
      ],
      "execution_count": null,
      "outputs": [
        {
          "output_type": "execute_result",
          "data": {
            "text/plain": [
              "LinearRegression(copy_X=True, fit_intercept=True, n_jobs=None, normalize=False)"
            ]
          },
          "metadata": {
            "tags": []
          },
          "execution_count": 46
        }
      ]
    },
    {
      "cell_type": "code",
      "metadata": {
        "colab": {
          "base_uri": "https://localhost:8080/"
        },
        "id": "8qpArUUCA7pE",
        "outputId": "b5c92a6d-0680-45b2-f500-18520471e7e1"
      },
      "source": [
        "regression_model.score(X1_train, y1_train)"
      ],
      "execution_count": null,
      "outputs": [
        {
          "output_type": "execute_result",
          "data": {
            "text/plain": [
              "0.6746712988680122"
            ]
          },
          "metadata": {
            "tags": []
          },
          "execution_count": 49
        }
      ]
    },
    {
      "cell_type": "code",
      "metadata": {
        "colab": {
          "base_uri": "https://localhost:8080/"
        },
        "id": "3ZLyNCgsAmM2",
        "outputId": "ef71e1b2-0d77-4cd8-e902-db13cbd5165c"
      },
      "source": [
        "print(\"intercept = \",regression_model.intercept_)"
      ],
      "execution_count": null,
      "outputs": [
        {
          "output_type": "stream",
          "text": [
            "intercept =  [46.18746114]\n"
          ],
          "name": "stdout"
        }
      ]
    },
    {
      "cell_type": "code",
      "metadata": {
        "colab": {
          "base_uri": "https://localhost:8080/"
        },
        "id": "SiDjPT92AsfV",
        "outputId": "e4098a7a-7fcf-47b6-fde1-6790111d144b"
      },
      "source": [
        "print(\"coeffiecient = \",regression_model.coef_)"
      ],
      "execution_count": null,
      "outputs": [
        {
          "output_type": "stream",
          "text": [
            "coeffiecient =  [[-0.00765699]]\n"
          ],
          "name": "stdout"
        }
      ]
    },
    {
      "cell_type": "markdown",
      "metadata": {
        "id": "tjEAGZx6x4_c"
      },
      "source": [
        "#Logistic Regression:\n",
        "\n",
        "\n",
        "---\n",
        "\n",
        "\n",
        "#Q9. The objective is to build a classifier that can predict whether an application will be admitted to the university (class 0) or not (class 1).\n",
        "\n",
        "Dataset details :The data consists of marks of two exams for 100 applicants. The target value takes on binary values 1,0. 1 means the applicant was admitted to the university whereas 0 means the applicant didn't get an admission. Download data from the following link.\n",
        "\n",
        "Dataset link:\n",
        "https://github.com/animesh-agarwal/Machine-Learning/blob/master/LogisticRegression/data/marks.txt\n",
        "\n",
        "(a) Calculate precision, recall, accuracy and f1 score.\n",
        "\n",
        "(b) Visualize the confusion matrix using Heatmap."
      ]
    },
    {
      "cell_type": "code",
      "metadata": {
        "id": "6TF_AYsUEuk2",
        "colab": {
          "base_uri": "https://localhost:8080/",
          "height": 199
        },
        "outputId": "f7f32b25-0bab-47a9-fd81-d9eb9546e754"
      },
      "source": [
        "marks_df = pd.read_csv(\"https://raw.githubusercontent.com/animesh-agarwal/Machine-Learning/master/LogisticRegression/data/marks.txt\", header = None)\n",
        "marks_df.rename(columns = {0:'MARKS_1',1:'MARKS_2',2:'ADMISSION'},inplace = True)\n",
        "marks_df.head()"
      ],
      "execution_count": null,
      "outputs": [
        {
          "output_type": "execute_result",
          "data": {
            "text/html": [
              "<div>\n",
              "<style scoped>\n",
              "    .dataframe tbody tr th:only-of-type {\n",
              "        vertical-align: middle;\n",
              "    }\n",
              "\n",
              "    .dataframe tbody tr th {\n",
              "        vertical-align: top;\n",
              "    }\n",
              "\n",
              "    .dataframe thead th {\n",
              "        text-align: right;\n",
              "    }\n",
              "</style>\n",
              "<table border=\"1\" class=\"dataframe\">\n",
              "  <thead>\n",
              "    <tr style=\"text-align: right;\">\n",
              "      <th></th>\n",
              "      <th>MARKS_1</th>\n",
              "      <th>MARKS_2</th>\n",
              "      <th>ADMISSION</th>\n",
              "    </tr>\n",
              "  </thead>\n",
              "  <tbody>\n",
              "    <tr>\n",
              "      <th>0</th>\n",
              "      <td>34.623660</td>\n",
              "      <td>78.024693</td>\n",
              "      <td>0</td>\n",
              "    </tr>\n",
              "    <tr>\n",
              "      <th>1</th>\n",
              "      <td>30.286711</td>\n",
              "      <td>43.894998</td>\n",
              "      <td>0</td>\n",
              "    </tr>\n",
              "    <tr>\n",
              "      <th>2</th>\n",
              "      <td>35.847409</td>\n",
              "      <td>72.902198</td>\n",
              "      <td>0</td>\n",
              "    </tr>\n",
              "    <tr>\n",
              "      <th>3</th>\n",
              "      <td>60.182599</td>\n",
              "      <td>86.308552</td>\n",
              "      <td>1</td>\n",
              "    </tr>\n",
              "    <tr>\n",
              "      <th>4</th>\n",
              "      <td>79.032736</td>\n",
              "      <td>75.344376</td>\n",
              "      <td>1</td>\n",
              "    </tr>\n",
              "  </tbody>\n",
              "</table>\n",
              "</div>"
            ],
            "text/plain": [
              "     MARKS_1    MARKS_2  ADMISSION\n",
              "0  34.623660  78.024693          0\n",
              "1  30.286711  43.894998          0\n",
              "2  35.847409  72.902198          0\n",
              "3  60.182599  86.308552          1\n",
              "4  79.032736  75.344376          1"
            ]
          },
          "metadata": {
            "tags": []
          },
          "execution_count": 50
        }
      ]
    },
    {
      "cell_type": "code",
      "metadata": {
        "id": "ujnjAsLoIOxi",
        "colab": {
          "base_uri": "https://localhost:8080/"
        },
        "outputId": "73163a66-265e-461b-ebca-6ae0c984b890"
      },
      "source": [
        "X = marks_df.drop('ADMISSION', axis=1)\n",
        "y = marks_df[['ADMISSION']]\n",
        "\n",
        "X_train, X_test, y_train, y_test = train_test_split(X, y, test_size=0.2, random_state=1)\n",
        "\n",
        "logistic_model = LogisticRegression()\n",
        "logistic_model.fit(X_train, y_train)\n",
        "\n",
        "y_pred = logistic_model.predict(X_test)\n"
      ],
      "execution_count": null,
      "outputs": [
        {
          "output_type": "stream",
          "text": [
            "/usr/local/lib/python3.7/dist-packages/sklearn/utils/validation.py:760: DataConversionWarning: A column-vector y was passed when a 1d array was expected. Please change the shape of y to (n_samples, ), for example using ravel().\n",
            "  y = column_or_1d(y, warn=True)\n"
          ],
          "name": "stderr"
        }
      ]
    },
    {
      "cell_type": "code",
      "metadata": {
        "colab": {
          "base_uri": "https://localhost:8080/"
        },
        "id": "mEa8Y1RGNwnn",
        "outputId": "0f2ef480-4cd1-4c95-bdcd-4f5845c311c7"
      },
      "source": [
        "from sklearn.metrics import precision_score\n",
        "from sklearn.metrics import recall_score\n",
        "from sklearn.metrics import accuracy_score\n",
        "from sklearn.metrics import f1_score\n",
        "\n",
        "precision = precision_score(y_test, y_pred, labels=[1,2], average='micro')\n",
        "print('Precision: ', precision)\n",
        "\n",
        "recall = recall_score(y_test, y_pred, average='binary')\n",
        "print(\"recall: \", recall)\n",
        "\n",
        "accuracy = accuracy_score(y_test,y_pred)\n",
        "print('accuracy: ',accuracy)\n",
        "\n",
        "score = f1_score(y_test, y_pred, average='binary')\n",
        "print('F-Measure: ',score)\n"
      ],
      "execution_count": null,
      "outputs": [
        {
          "output_type": "stream",
          "text": [
            "Precision:  0.8333333333333334\n",
            "recall:  0.9090909090909091\n",
            "accuracy:  0.85\n",
            "F-Measure:  0.8695652173913043\n"
          ],
          "name": "stdout"
        }
      ]
    },
    {
      "cell_type": "code",
      "metadata": {
        "colab": {
          "base_uri": "https://localhost:8080/",
          "height": 353
        },
        "id": "jA2IgVV7NDHF",
        "outputId": "9326555f-599c-4b75-bcb6-291aa6587aba"
      },
      "source": [
        "print(\"confusion matrix using Heatmap \\n\\n\\n\")\n",
        "\n",
        "M = confusion_matrix(y_test,y_pred)\n",
        "sns.heatmap(M, cmap=\"Blues\", annot=True,annot_kws={\"size\": 16})"
      ],
      "execution_count": null,
      "outputs": [
        {
          "output_type": "stream",
          "text": [
            "confusion matrix using Heatmap \n",
            "\n",
            "\n",
            "\n"
          ],
          "name": "stdout"
        },
        {
          "output_type": "execute_result",
          "data": {
            "text/plain": [
              "<matplotlib.axes._subplots.AxesSubplot at 0x7fc2b156ff50>"
            ]
          },
          "metadata": {
            "tags": []
          },
          "execution_count": 53
        },
        {
          "output_type": "display_data",
          "data": {
            "image/png": "[encoded data removed]",
            "text/plain": [
              "<Figure size 432x288 with 2 Axes>"
            ]
          },
          "metadata": {
            "tags": [],
            "needs_background": "light"
          }
        }
      ]
    }
  ]
}